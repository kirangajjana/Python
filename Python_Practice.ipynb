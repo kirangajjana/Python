{
  "nbformat": 4,
  "nbformat_minor": 0,
  "metadata": {
    "colab": {
      "provenance": []
    },
    "kernelspec": {
      "name": "python3",
      "display_name": "Python 3"
    },
    "language_info": {
      "name": "python"
    }
  },
  "cells": [
    {
      "cell_type": "code",
      "execution_count": null,
      "metadata": {
        "colab": {
          "base_uri": "https://localhost:8080/"
        },
        "id": "a2W15J8ExPhc",
        "outputId": "e45373f2-c82e-4191-8c0c-a45b0afe48c8"
      },
      "outputs": [
        {
          "output_type": "stream",
          "name": "stdout",
          "text": [
            "hello world\n"
          ]
        }
      ],
      "source": [
        "print('hello world')"
      ]
    },
    {
      "cell_type": "code",
      "source": [
        "def kiran():\n",
        "  print(\"hello kiran gajjana\")"
      ],
      "metadata": {
        "id": "TCTLh53fxbQy"
      },
      "execution_count": null,
      "outputs": []
    },
    {
      "cell_type": "code",
      "source": [
        "kiran()"
      ],
      "metadata": {
        "colab": {
          "base_uri": "https://localhost:8080/"
        },
        "id": "pckZwBkxz3Nn",
        "outputId": "df334fcf-1a62-4480-db5f-3d110b44d673"
      },
      "execution_count": null,
      "outputs": [
        {
          "output_type": "stream",
          "name": "stdout",
          "text": [
            "hello kiran gajjana\n"
          ]
        }
      ]
    },
    {
      "cell_type": "code",
      "source": [
        "for i in range(5):\n",
        "  print(\"hello kiran gajjana\")\n",
        "print(\"welcome to my house kiran gajjana\")"
      ],
      "metadata": {
        "colab": {
          "base_uri": "https://localhost:8080/"
        },
        "id": "B1VbnFgMz8ai",
        "outputId": "7682c69a-9801-4dd6-9586-778b8d6abcce"
      },
      "execution_count": null,
      "outputs": [
        {
          "output_type": "stream",
          "name": "stdout",
          "text": [
            "hello kiran gajjana\n",
            "hello kiran gajjana\n",
            "hello kiran gajjana\n",
            "hello kiran gajjana\n",
            "hello kiran gajjana\n",
            "welcome to my house kiran gajjana\n"
          ]
        }
      ]
    },
    {
      "cell_type": "code",
      "source": [
        "for i in range(5): #this loop will iterate and prints the content for 5 time\n",
        "  print('hello kiran gajjana')"
      ],
      "metadata": {
        "colab": {
          "base_uri": "https://localhost:8080/"
        },
        "id": "2gWb7Uot0CK0",
        "outputId": "6091275e-4c44-49b7-8fad-99f3786d8e92"
      },
      "execution_count": null,
      "outputs": [
        {
          "output_type": "stream",
          "name": "stdout",
          "text": [
            "hello kiran gajjana\n",
            "hello kiran gajjana\n",
            "hello kiran gajjana\n",
            "hello kiran gajjana\n",
            "hello kiran gajjana\n"
          ]
        }
      ]
    },
    {
      "cell_type": "code",
      "source": [
        "#hi we have to write the commments by following these syntax\n",
        "\"\"\"\n",
        "hello kiran gajjana this is the comments section\n",
        "\"\"\""
      ],
      "metadata": {
        "colab": {
          "base_uri": "https://localhost:8080/",
          "height": 36
        },
        "id": "AbClSIcM1wnZ",
        "outputId": "f81a1128-a390-44ba-d8fd-42dc4ba8a21c"
      },
      "execution_count": null,
      "outputs": [
        {
          "output_type": "execute_result",
          "data": {
            "text/plain": [
              "'\\nhello kiran gajjana this is the comments section\\n'"
            ],
            "application/vnd.google.colaboratory.intrinsic+json": {
              "type": "string"
            }
          },
          "metadata": {},
          "execution_count": 12
        }
      ]
    },
    {
      "cell_type": "code",
      "source": [
        "a=5\n",
        "name='kiran gajjana' #in python there is no need to declare with the particular type\n",
        "b=7.5\n"
      ],
      "metadata": {
        "id": "HIr-Q2BL2a2u"
      },
      "execution_count": null,
      "outputs": []
    },
    {
      "cell_type": "code",
      "source": [
        "type(a)"
      ],
      "metadata": {
        "colab": {
          "base_uri": "https://localhost:8080/"
        },
        "id": "ICtcGJMf2mh0",
        "outputId": "2880b4f8-e3eb-4560-b3b3-7c584f567285"
      },
      "execution_count": null,
      "outputs": [
        {
          "output_type": "execute_result",
          "data": {
            "text/plain": [
              "int"
            ]
          },
          "metadata": {},
          "execution_count": 16
        }
      ]
    },
    {
      "cell_type": "code",
      "source": [
        "type(str(a))"
      ],
      "metadata": {
        "colab": {
          "base_uri": "https://localhost:8080/"
        },
        "id": "sERZt-eF3Jyt",
        "outputId": "a0289168-471d-4659-9336-d743a8c05f00"
      },
      "execution_count": null,
      "outputs": [
        {
          "output_type": "execute_result",
          "data": {
            "text/plain": [
              "str"
            ]
          },
          "metadata": {},
          "execution_count": 19
        }
      ]
    },
    {
      "cell_type": "code",
      "source": [
        "#camel case where we will use the first word is small and the remaining words will be capital\n",
        "#example:myKiranDate\n",
        "#pascal case where each word will starts with the capital words only\n",
        "#example:MyNameKiran\n",
        "#snake case where each word is seperated with the _\n",
        "#my_name_kiran\n"
      ],
      "metadata": {
        "id": "Jhy9piQ-3LnA"
      },
      "execution_count": null,
      "outputs": []
    },
    {
      "cell_type": "code",
      "source": [
        "#we can assign multiple values to the variables at one\n",
        "x,y,z=\"kiran gajjana\",\"tejeswar gajjana\",\"lokesh gajjana\""
      ],
      "metadata": {
        "id": "vbSkF73W3M0n"
      },
      "execution_count": null,
      "outputs": []
    },
    {
      "cell_type": "code",
      "source": [
        "#we can also asign multiple varible\n",
        "x=y=z=\"kiran gajjana\""
      ],
      "metadata": {
        "id": "n7j2SHvx4qlc"
      },
      "execution_count": null,
      "outputs": []
    },
    {
      "cell_type": "code",
      "source": [
        "#unpacking the list items into a variable"
      ],
      "metadata": {
        "id": "O-_YBT8h44Z8"
      },
      "execution_count": null,
      "outputs": []
    },
    {
      "cell_type": "code",
      "source": [
        "name=['kiran gajjana','teja gajjana','lokesh gajjana']"
      ],
      "metadata": {
        "id": "bg-Qc__X5N7s"
      },
      "execution_count": null,
      "outputs": []
    },
    {
      "cell_type": "code",
      "source": [
        "x,y,z=name"
      ],
      "metadata": {
        "id": "dCtfSSpP5TaA"
      },
      "execution_count": null,
      "outputs": []
    },
    {
      "cell_type": "code",
      "source": [
        "x"
      ],
      "metadata": {
        "colab": {
          "base_uri": "https://localhost:8080/",
          "height": 36
        },
        "id": "uU-2O0Ox5XLS",
        "outputId": "9402bc01-0372-4445-9166-5360ec63c2ed"
      },
      "execution_count": null,
      "outputs": [
        {
          "output_type": "execute_result",
          "data": {
            "text/plain": [
              "'kiran gajjana'"
            ],
            "application/vnd.google.colaboratory.intrinsic+json": {
              "type": "string"
            }
          },
          "metadata": {},
          "execution_count": 29
        }
      ]
    },
    {
      "cell_type": "code",
      "source": [
        "y"
      ],
      "metadata": {
        "colab": {
          "base_uri": "https://localhost:8080/",
          "height": 36
        },
        "id": "-Hinx0_h5YNB",
        "outputId": "e66979f9-50d7-48af-9039-0f04b8b3c1cf"
      },
      "execution_count": null,
      "outputs": [
        {
          "output_type": "execute_result",
          "data": {
            "text/plain": [
              "'teja gajjana'"
            ],
            "application/vnd.google.colaboratory.intrinsic+json": {
              "type": "string"
            }
          },
          "metadata": {},
          "execution_count": 30
        }
      ]
    },
    {
      "cell_type": "code",
      "source": [
        "z"
      ],
      "metadata": {
        "colab": {
          "base_uri": "https://localhost:8080/",
          "height": 36
        },
        "id": "5QED0ikz5ZT9",
        "outputId": "6d91ea2b-cf5a-4979-fd1f-171a2bd0c2c4"
      },
      "execution_count": null,
      "outputs": [
        {
          "output_type": "execute_result",
          "data": {
            "text/plain": [
              "'lokesh gajjana'"
            ],
            "application/vnd.google.colaboratory.intrinsic+json": {
              "type": "string"
            }
          },
          "metadata": {},
          "execution_count": 31
        }
      ]
    },
    {
      "cell_type": "code",
      "source": [
        "#unpacking tuples\n",
        "name1=('kiran gajjna','teja gajjana','haran gajjana')"
      ],
      "metadata": {
        "id": "IcIilL0x5auj"
      },
      "execution_count": null,
      "outputs": []
    },
    {
      "cell_type": "code",
      "source": [
        "x,y,z=name1"
      ],
      "metadata": {
        "id": "Bg0PeaPw5sFp"
      },
      "execution_count": null,
      "outputs": []
    },
    {
      "cell_type": "code",
      "source": [
        "#we will be using astric if we want to store the list items into the variable if in case the list variables are small than the items inside the list then if we will asign the astric then the litems reammaing will be asigned to this variable as a list"
      ],
      "metadata": {
        "id": "re-INSm25u5H"
      },
      "execution_count": null,
      "outputs": []
    },
    {
      "cell_type": "code",
      "source": [
        "name=[\"Abhishek\",\"Deepak\",\"Saket\",\"Yetendra\",\"Suman som\",\"Soham biswas\",\"Kiran gajjana\",\"Dorothy Barman\",\"Sreyashi Karamakar\",\"Anurag Maurya\",\"Bipal Khanal\"]\n",
        "x,*y,z=name"
      ],
      "metadata": {
        "id": "Sk8OqZbF6jDA"
      },
      "execution_count": null,
      "outputs": []
    },
    {
      "cell_type": "code",
      "source": [
        "x"
      ],
      "metadata": {
        "colab": {
          "base_uri": "https://localhost:8080/",
          "height": 36
        },
        "id": "eRRaGLqN68EP",
        "outputId": "c0becfb8-c298-4433-d26c-ebc85995a9a0"
      },
      "execution_count": null,
      "outputs": [
        {
          "output_type": "execute_result",
          "data": {
            "text/plain": [
              "'Abhishek'"
            ],
            "application/vnd.google.colaboratory.intrinsic+json": {
              "type": "string"
            }
          },
          "metadata": {},
          "execution_count": 41
        }
      ]
    },
    {
      "cell_type": "code",
      "source": [
        "y"
      ],
      "metadata": {
        "colab": {
          "base_uri": "https://localhost:8080/"
        },
        "id": "XhbGxmst69Tc",
        "outputId": "0701aadd-c327-44e0-911d-8a48aa9f477f"
      },
      "execution_count": null,
      "outputs": [
        {
          "output_type": "execute_result",
          "data": {
            "text/plain": [
              "['Deepak',\n",
              " 'Saket',\n",
              " 'Yetendra',\n",
              " 'Suman som',\n",
              " 'Soham biswas',\n",
              " 'Kiran gajjana',\n",
              " 'Dorothy Barman',\n",
              " 'Sreyashi Karamakar',\n",
              " 'Anurag Maurya']"
            ]
          },
          "metadata": {},
          "execution_count": 42
        }
      ]
    },
    {
      "cell_type": "code",
      "source": [
        "z"
      ],
      "metadata": {
        "colab": {
          "base_uri": "https://localhost:8080/",
          "height": 36
        },
        "id": "ZPeVvIvi6-Y0",
        "outputId": "65025a60-2787-40cd-9393-b63df6c8744f"
      },
      "execution_count": null,
      "outputs": [
        {
          "output_type": "execute_result",
          "data": {
            "text/plain": [
              "'Bipal Khanal'"
            ],
            "application/vnd.google.colaboratory.intrinsic+json": {
              "type": "string"
            }
          },
          "metadata": {},
          "execution_count": 43
        }
      ]
    },
    {
      "cell_type": "code",
      "source": [
        "a=\"hello\"\n",
        "b=\"kiran\"\n",
        "c=\"gajjana\"\n",
        "print(a,b,c)"
      ],
      "metadata": {
        "colab": {
          "base_uri": "https://localhost:8080/"
        },
        "id": "Dk5lEy5j7A8o",
        "outputId": "99587f1f-5f00-4913-db43-39fb062ea671"
      },
      "execution_count": null,
      "outputs": [
        {
          "output_type": "stream",
          "name": "stdout",
          "text": [
            "hello kiran gajjana\n"
          ]
        }
      ]
    },
    {
      "cell_type": "code",
      "source": [
        "print(a+\" \"+b+\" \"+c)"
      ],
      "metadata": {
        "colab": {
          "base_uri": "https://localhost:8080/"
        },
        "id": "m2l8VGAc7YxM",
        "outputId": "9a138a65-f3b8-4aa8-b3d4-a4ff359db26f"
      },
      "execution_count": null,
      "outputs": [
        {
          "output_type": "stream",
          "name": "stdout",
          "text": [
            "hello kiran gajjana\n"
          ]
        }
      ]
    },
    {
      "cell_type": "code",
      "source": [
        "a=5\n",
        "b=\"kiran gajjana\"\n",
        "print(str(a)+b)"
      ],
      "metadata": {
        "colab": {
          "base_uri": "https://localhost:8080/"
        },
        "id": "Mijt3FJI7d02",
        "outputId": "f9a84def-2eae-4ce7-a4e8-61caf2f5b9b1"
      },
      "execution_count": null,
      "outputs": [
        {
          "output_type": "stream",
          "name": "stdout",
          "text": [
            "5kiran gajjana\n"
          ]
        }
      ]
    },
    {
      "cell_type": "code",
      "source": [
        "#variable outside the function\n",
        "x=\"kiran gajjana\"\n",
        "def kiran():\n",
        "  x=\"haran gajjana\"\n",
        "  print(\"hello mr.\"+x+\"welcome to my blog!\")"
      ],
      "metadata": {
        "id": "bSEwfnZl7sQ-"
      },
      "execution_count": null,
      "outputs": []
    },
    {
      "cell_type": "code",
      "source": [
        "kiran()"
      ],
      "metadata": {
        "colab": {
          "base_uri": "https://localhost:8080/"
        },
        "id": "jCXpG-vm8NIo",
        "outputId": "a61a0780-b0e7-4cd9-b4e7-d0ac40c19ddb"
      },
      "execution_count": null,
      "outputs": [
        {
          "output_type": "stream",
          "name": "stdout",
          "text": [
            "hello mr.haran gajjanawelcome to my blog!\n"
          ]
        }
      ]
    },
    {
      "cell_type": "code",
      "source": [
        "#using globalvariables  inside the functions\n",
        "def kiran():\n",
        "  global x\n",
        "  x=\"kiran gajjana\"\n",
        "  print(\"hello mr.\"+ x)\n",
        "def teja():\n",
        "  print(\"hello mr.\"+ x)\n"
      ],
      "metadata": {
        "id": "tEhkfCco8ObR"
      },
      "execution_count": null,
      "outputs": []
    },
    {
      "cell_type": "code",
      "source": [
        "teja()"
      ],
      "metadata": {
        "colab": {
          "base_uri": "https://localhost:8080/"
        },
        "id": "7qhY24uo81xG",
        "outputId": "a0d16dcb-9d83-4e9d-e605-84b99cc2a333"
      },
      "execution_count": null,
      "outputs": [
        {
          "output_type": "stream",
          "name": "stdout",
          "text": [
            "hello mr.kiran gajjana\n"
          ]
        }
      ]
    },
    {
      "cell_type": "code",
      "source": [
        "#types of datatypes in python\n",
        "# 1.text=str\n",
        "# 2.numeric=int,float,complex\n",
        "# 3.sequence=list,tuple,range\n",
        "# 4.mapping=dict\n",
        "# 5.set type=sets,frozen sets\n",
        "# 6.boolean=bool\n",
        "# 7.binary types=bytes,bytearray,memoryview\n",
        "# 8.Nonetype=Nonetype"
      ],
      "metadata": {
        "id": "1d1zgKc382md"
      },
      "execution_count": null,
      "outputs": []
    },
    {
      "cell_type": "code",
      "source": [
        "#check string\n",
        "string=\"hello kiran gajjana how are you\"\n",
        "print(\"how\" in string)"
      ],
      "metadata": {
        "colab": {
          "base_uri": "https://localhost:8080/"
        },
        "id": "oRGm6-XP-0Db",
        "outputId": "99407cb0-a1cf-4636-b316-fa6e1c2dc6e1"
      },
      "execution_count": null,
      "outputs": [
        {
          "output_type": "stream",
          "name": "stdout",
          "text": [
            "True\n"
          ]
        }
      ]
    },
    {
      "cell_type": "code",
      "source": [
        "#check string use if statement\n",
        "string1=\"hello kiran gajjana you are selected for the role of the mtech intern we are offering you 50000 as a stifund for  the internsip are you interested\"\n",
        "if \"you are selected\" in string1:\n",
        "  print(\"Congratulations you are selected\")"
      ],
      "metadata": {
        "colab": {
          "base_uri": "https://localhost:8080/"
        },
        "id": "iAU2D5yUEl1d",
        "outputId": "23569f20-cd09-473b-d925-0f8afb544ecb"
      },
      "execution_count": null,
      "outputs": [
        {
          "output_type": "stream",
          "name": "stdout",
          "text": [
            "Congratulations you are selected\n"
          ]
        }
      ]
    },
    {
      "cell_type": "code",
      "source": [
        "if \"haran gajjana\" not in string1:\n",
        "  print(\"sorry your name is not present\")"
      ],
      "metadata": {
        "colab": {
          "base_uri": "https://localhost:8080/"
        },
        "id": "I46LnyN7FFOL",
        "outputId": "9d6bbbe7-843b-4365-d895-429999659ddd"
      },
      "execution_count": null,
      "outputs": [
        {
          "output_type": "stream",
          "name": "stdout",
          "text": [
            "sorry your name is not present\n"
          ]
        }
      ]
    },
    {
      "cell_type": "code",
      "source": [
        "#operators in python"
      ],
      "metadata": {
        "id": "y-mEEk5-FT6P"
      },
      "execution_count": null,
      "outputs": []
    },
    {
      "cell_type": "code",
      "source": [
        "# 1.Arithemetic operators\n",
        "# 2.Asignment Operators\n",
        "# 3.Comparision Operators\n",
        "# 4.Logical Operators\n",
        "# 5.Identical Operators\n",
        "# 6.Membership Operators\n",
        "# 7.Bitwise Operators"
      ],
      "metadata": {
        "id": "9KqSUScgGWNs"
      },
      "execution_count": null,
      "outputs": []
    },
    {
      "cell_type": "code",
      "source": [
        "#Logical Operators and\n",
        "if 5>2 and 10<1:\n",
        "  print(\"hello welcome to sikkim\")"
      ],
      "metadata": {
        "id": "3epMIVMfGxqx"
      },
      "execution_count": null,
      "outputs": []
    },
    {
      "cell_type": "code",
      "source": [
        "#logical operator or\n",
        "if 5<10 or 10>2:\n",
        "  print(\"hello welcome to odissa\")"
      ],
      "metadata": {
        "colab": {
          "base_uri": "https://localhost:8080/"
        },
        "id": "tWWrPhInHJTW",
        "outputId": "e9228ff8-f63d-42de-d8e6-7946a0424f12"
      },
      "execution_count": null,
      "outputs": [
        {
          "output_type": "stream",
          "name": "stdout",
          "text": [
            "hello welcome to odissa\n"
          ]
        }
      ]
    },
    {
      "cell_type": "code",
      "source": [
        "#conditional statements\n",
        "height=int(input(\"enter your height\"))\n",
        "if height>5:\n",
        "  print(\"welcome to nit sikkim\")\n",
        "else:\n",
        "  print(\"sorry we cant move forward with this pplication\")"
      ],
      "metadata": {
        "colab": {
          "base_uri": "https://localhost:8080/"
        },
        "id": "cY96szrdHU-Z",
        "outputId": "ecb902f4-960a-4bea-a17d-a43eec329a04"
      },
      "execution_count": null,
      "outputs": [
        {
          "output_type": "stream",
          "name": "stdout",
          "text": [
            "enter your height10\n",
            "welcome to nit sikkim\n"
          ]
        }
      ]
    },
    {
      "cell_type": "code",
      "source": [
        "#check wether the given number is even or odd\n",
        "number=int(input(\"enter any number:\"))\n",
        "if number%2==0:\n",
        "  print(\"the given number is even\")\n",
        "else:\n",
        "  print(\"the given number is odd\")"
      ],
      "metadata": {
        "colab": {
          "base_uri": "https://localhost:8080/"
        },
        "id": "sa0q1bgGLM8x",
        "outputId": "d4cb6526-fdcb-4939-a7d5-7324d1fa6175"
      },
      "execution_count": null,
      "outputs": [
        {
          "output_type": "stream",
          "name": "stdout",
          "text": [
            "enter any number:10\n",
            "the given number is even\n"
          ]
        }
      ]
    },
    {
      "cell_type": "code",
      "source": [
        "#nested if else conditional ststements\n",
        "name=input(\"enter the naame of shopping mall you want to enter:\")\n",
        "if name=='more':\n",
        "  print(\"welcome to the more super market\")\n",
        "  fruits=input(\"enter the fruits you want to buy\")\n",
        "  if fruits==\"apple\":\n",
        "      print(\"Apples are available\")\n",
        "  else:\n",
        "      print(\"the above fruits are not available\")\n",
        "else:\n",
        "  print(\"enter the correct option for further reference\")"
      ],
      "metadata": {
        "colab": {
          "base_uri": "https://localhost:8080/"
        },
        "id": "NPfICBaiNstj",
        "outputId": "3f6f06c8-3c9e-4c09-c32a-caef058a9bae"
      },
      "execution_count": null,
      "outputs": [
        {
          "output_type": "stream",
          "name": "stdout",
          "text": [
            "enter the naame of shopping mall you want to enter:more\n",
            "welcome to the more super market\n",
            "enter the fruits you want to buyapple\n",
            "Apples are available\n"
          ]
        }
      ]
    },
    {
      "cell_type": "code",
      "source": [
        "#check wether the given year is leap year or not\n",
        "year=int(input(\"enter the year you want to check:\"))\n",
        "if(year%4==0):\n",
        "  if(year%100==0):\n",
        "    if(year%400==0):\n",
        "      print(\"the given year is leap year\")\n",
        "    else:\n",
        "      print(\"the given year is not a leap year\")\n",
        "  else:\n",
        "    print(\"the given year is a leap year\")\n",
        "else:\n",
        "  print(\"the given year is not a leap year\")"
      ],
      "metadata": {
        "colab": {
          "base_uri": "https://localhost:8080/"
        },
        "id": "kUjJ4ZIQNz29",
        "outputId": "7a67e927-2cab-48a0-c1d9-1dce1ae2f6fa"
      },
      "execution_count": null,
      "outputs": [
        {
          "output_type": "stream",
          "name": "stdout",
          "text": [
            "enter the year you want to check:2024\n",
            "the given year is a leap year\n"
          ]
        }
      ]
    },
    {
      "cell_type": "code",
      "source": [
        "# program to check elif\n",
        "number=int(input(\"enter a number you want to enter\"))\n",
        "if(number==1):\n",
        "  print(\"The given number is one\")\n",
        "elif(number==2):\n",
        "  print(\"the given number is two\")\n",
        "else:\n",
        "  print(\"please press any correct button for further references\")"
      ],
      "metadata": {
        "colab": {
          "base_uri": "https://localhost:8080/"
        },
        "id": "leBNvn-vsgsz",
        "outputId": "8e70642c-1943-4223-b273-83efa8327d5b"
      },
      "execution_count": null,
      "outputs": [
        {
          "output_type": "stream",
          "name": "stdout",
          "text": [
            "enter a number you want to enter1\n",
            "The given number is one\n"
          ]
        }
      ]
    },
    {
      "cell_type": "code",
      "source": [
        "#python list\n",
        "list=[1,5.5,'kirangajjana',True,1.5]\n",
        "print(list)"
      ],
      "metadata": {
        "colab": {
          "base_uri": "https://localhost:8080/"
        },
        "id": "B-Zr2meAtqcP",
        "outputId": "46927723-5078-4dff-d919-559c69b88e74"
      },
      "execution_count": null,
      "outputs": [
        {
          "output_type": "stream",
          "name": "stdout",
          "text": [
            "[1, 5.5, 'kirangajjana', True, 1.5]\n"
          ]
        }
      ]
    },
    {
      "cell_type": "code",
      "source": [
        "list[1]"
      ],
      "metadata": {
        "colab": {
          "base_uri": "https://localhost:8080/"
        },
        "id": "rMEv8ylvvNVJ",
        "outputId": "8b534738-f47e-4972-d4f9-ca0b99793099"
      },
      "execution_count": null,
      "outputs": [
        {
          "output_type": "execute_result",
          "data": {
            "text/plain": [
              "5.5"
            ]
          },
          "metadata": {},
          "execution_count": 6
        }
      ]
    },
    {
      "cell_type": "code",
      "source": [
        "for i in range(5):\n",
        "  print(list[i])"
      ],
      "metadata": {
        "colab": {
          "base_uri": "https://localhost:8080/"
        },
        "id": "frI73anuvP4P",
        "outputId": "be2d441c-6d5c-44a2-d6e3-d080190f631e"
      },
      "execution_count": null,
      "outputs": [
        {
          "output_type": "stream",
          "name": "stdout",
          "text": [
            "1\n",
            "5.5\n",
            "kirangajjana\n",
            "True\n",
            "1.5\n"
          ]
        }
      ]
    },
    {
      "cell_type": "code",
      "source": [
        "#sorting in list\n",
        "list=['Abhishek','Deepak','Saket','Yetendra','Suman som','Sohaam biswas','Kiran gajjana','Dorothy Barman','Sreyashi Karmarkar','Anurag Maurya','Bipal Khanal']"
      ],
      "metadata": {
        "id": "Ef-XscAdvXag"
      },
      "execution_count": null,
      "outputs": []
    },
    {
      "cell_type": "code",
      "source": [
        "a=list.sort()"
      ],
      "metadata": {
        "id": "RiOam5O4v_qM"
      },
      "execution_count": null,
      "outputs": []
    },
    {
      "cell_type": "code",
      "source": [
        "print(a)"
      ],
      "metadata": {
        "colab": {
          "base_uri": "https://localhost:8080/"
        },
        "id": "mdVoH3X0wB9E",
        "outputId": "e49145cc-4222-4747-de88-8be37759f630"
      },
      "execution_count": null,
      "outputs": [
        {
          "output_type": "stream",
          "name": "stdout",
          "text": [
            "None\n"
          ]
        }
      ]
    },
    {
      "cell_type": "code",
      "source": [
        "list.append(['kiran gajjana'])"
      ],
      "metadata": {
        "id": "NZDNXr9nwKMg"
      },
      "execution_count": null,
      "outputs": []
    },
    {
      "cell_type": "code",
      "source": [
        "list.pop()"
      ],
      "metadata": {
        "colab": {
          "base_uri": "https://localhost:8080/"
        },
        "id": "jJYdGPINwh2L",
        "outputId": "79166b9a-f35c-40c9-8248-73eb5a9df497"
      },
      "execution_count": null,
      "outputs": [
        {
          "output_type": "execute_result",
          "data": {
            "text/plain": [
              "['kiran gajjana']"
            ]
          },
          "metadata": {},
          "execution_count": 17
        }
      ]
    },
    {
      "cell_type": "code",
      "source": [
        "list"
      ],
      "metadata": {
        "colab": {
          "base_uri": "https://localhost:8080/"
        },
        "id": "q3teqyJxwi8h",
        "outputId": "cded51ff-df15-4fe9-e65b-94dbcdaf1f0d"
      },
      "execution_count": null,
      "outputs": [
        {
          "output_type": "execute_result",
          "data": {
            "text/plain": [
              "['Abhishek',\n",
              " 'Anurag Maurya',\n",
              " 'Bipal Khanal',\n",
              " 'Deepak',\n",
              " 'Dorothy Barman',\n",
              " 'Kiran gajjana',\n",
              " 'Saket',\n",
              " 'Sohaam biswas',\n",
              " 'Sreyashi Karmarkar',\n",
              " 'Suman som',\n",
              " 'Yetendra']"
            ]
          },
          "metadata": {},
          "execution_count": 18
        }
      ]
    },
    {
      "cell_type": "code",
      "source": [
        "list.append('kiran gajjana')"
      ],
      "metadata": {
        "id": "vWR3tYSUwn5N"
      },
      "execution_count": null,
      "outputs": []
    },
    {
      "cell_type": "code",
      "source": [
        "list\n"
      ],
      "metadata": {
        "colab": {
          "base_uri": "https://localhost:8080/"
        },
        "id": "b04tYf8EwrnH",
        "outputId": "026a85f8-826a-4418-fbf2-5516bcedd5f8"
      },
      "execution_count": null,
      "outputs": [
        {
          "output_type": "execute_result",
          "data": {
            "text/plain": [
              "['Abhishek',\n",
              " 'Anurag Maurya',\n",
              " 'Bipal Khanal',\n",
              " 'Deepak',\n",
              " 'Dorothy Barman',\n",
              " 'Kiran gajjana',\n",
              " 'Saket',\n",
              " 'Sohaam biswas',\n",
              " 'Sreyashi Karmarkar',\n",
              " 'Suman som',\n",
              " 'Yetendra',\n",
              " 'kiran gajjana']"
            ]
          },
          "metadata": {},
          "execution_count": 20
        }
      ]
    },
    {
      "cell_type": "code",
      "source": [
        "#if we want to insert at the specific position then we need to use insert\n",
        "list.insert(2,'harshita patnaik')"
      ],
      "metadata": {
        "id": "uGCrFzYkwszJ"
      },
      "execution_count": null,
      "outputs": []
    },
    {
      "cell_type": "code",
      "source": [
        "list"
      ],
      "metadata": {
        "colab": {
          "base_uri": "https://localhost:8080/"
        },
        "id": "6zFmZP6aw_H0",
        "outputId": "9d7f960a-8f4a-48fe-c515-b88f72d23c02"
      },
      "execution_count": null,
      "outputs": [
        {
          "output_type": "execute_result",
          "data": {
            "text/plain": [
              "['Abhishek',\n",
              " 'Anurag Maurya',\n",
              " 'harshita patnaik',\n",
              " 'Bipal Khanal',\n",
              " 'Deepak',\n",
              " 'Dorothy Barman',\n",
              " 'Kiran gajjana',\n",
              " 'Saket',\n",
              " 'Sohaam biswas',\n",
              " 'Sreyashi Karmarkar',\n",
              " 'Suman som',\n",
              " 'Yetendra',\n",
              " 'kiran gajjana']"
            ]
          },
          "metadata": {},
          "execution_count": 22
        }
      ]
    },
    {
      "cell_type": "code",
      "source": [
        "list.extend(['teja gajjana','lokeswara rao gajjana','kalpana ganna','sudhakar rao murala','vijaya kumar murala'])"
      ],
      "metadata": {
        "id": "X625moV5xAK8"
      },
      "execution_count": null,
      "outputs": []
    },
    {
      "cell_type": "code",
      "source": [
        "list"
      ],
      "metadata": {
        "colab": {
          "base_uri": "https://localhost:8080/"
        },
        "id": "JBdufRD6xhEJ",
        "outputId": "6b04ed58-81fb-4c4d-c84e-76088e125f23"
      },
      "execution_count": null,
      "outputs": [
        {
          "output_type": "execute_result",
          "data": {
            "text/plain": [
              "['Abhishek',\n",
              " 'Anurag Maurya',\n",
              " 'harshita patnaik',\n",
              " 'Bipal Khanal',\n",
              " 'Deepak',\n",
              " 'Dorothy Barman',\n",
              " 'Kiran gajjana',\n",
              " 'Saket',\n",
              " 'Sohaam biswas',\n",
              " 'Sreyashi Karmarkar',\n",
              " 'Suman som',\n",
              " 'Yetendra',\n",
              " 'kiran gajjana',\n",
              " 'teja gajjana',\n",
              " 'lokeswara rao gajjana',\n",
              " 'kalpana ganna',\n",
              " 'sudhakar rao murala',\n",
              " 'vijaya kumar murala']"
            ]
          },
          "metadata": {},
          "execution_count": 24
        }
      ]
    },
    {
      "cell_type": "code",
      "source": [
        "list[1:4]=['Dheekshita murala','puneeth sai murala','jhasmita murala']"
      ],
      "metadata": {
        "id": "WUTQp9gOxiEs"
      },
      "execution_count": null,
      "outputs": []
    },
    {
      "cell_type": "code",
      "source": [
        "list"
      ],
      "metadata": {
        "colab": {
          "base_uri": "https://localhost:8080/"
        },
        "id": "4H6rF9lXx74j",
        "outputId": "d6989416-e8de-4a8b-be75-814ba7c92b74"
      },
      "execution_count": null,
      "outputs": [
        {
          "output_type": "execute_result",
          "data": {
            "text/plain": [
              "['Abhishek',\n",
              " 'Dheekshita murala',\n",
              " 'puneeth sai murala',\n",
              " 'jhasmita murala',\n",
              " 'Deepak',\n",
              " 'Dorothy Barman',\n",
              " 'Kiran gajjana',\n",
              " 'Saket',\n",
              " 'Sohaam biswas',\n",
              " 'Sreyashi Karmarkar',\n",
              " 'Suman som',\n",
              " 'Yetendra',\n",
              " 'kiran gajjana',\n",
              " 'teja gajjana',\n",
              " 'lokeswara rao gajjana',\n",
              " 'kalpana ganna',\n",
              " 'sudhakar rao murala',\n",
              " 'vijaya kumar murala']"
            ]
          },
          "metadata": {},
          "execution_count": 26
        }
      ]
    },
    {
      "cell_type": "code",
      "source": [
        "list.remove('kiran gajjana')"
      ],
      "metadata": {
        "id": "VzVo3b4vx8-p"
      },
      "execution_count": null,
      "outputs": []
    },
    {
      "cell_type": "code",
      "source": [
        "list"
      ],
      "metadata": {
        "colab": {
          "base_uri": "https://localhost:8080/"
        },
        "id": "JZRRVqhkyMJl",
        "outputId": "b110b76d-0f6e-46d0-c97a-2076ae1c3f9d"
      },
      "execution_count": null,
      "outputs": [
        {
          "output_type": "execute_result",
          "data": {
            "text/plain": [
              "['Abhishek',\n",
              " 'Dheekshita murala',\n",
              " 'puneeth sai murala',\n",
              " 'jhasmita murala',\n",
              " 'Deepak',\n",
              " 'Dorothy Barman',\n",
              " 'Kiran gajjana',\n",
              " 'Saket',\n",
              " 'Sohaam biswas',\n",
              " 'Sreyashi Karmarkar',\n",
              " 'Suman som',\n",
              " 'Yetendra',\n",
              " 'teja gajjana',\n",
              " 'lokeswara rao gajjana',\n",
              " 'kalpana ganna',\n",
              " 'sudhakar rao murala',\n",
              " 'vijaya kumar murala']"
            ]
          },
          "metadata": {},
          "execution_count": 28
        }
      ]
    },
    {
      "cell_type": "code",
      "source": [
        "list.count('kiran gajjana')"
      ],
      "metadata": {
        "colab": {
          "base_uri": "https://localhost:8080/"
        },
        "id": "PhswjL8wyNBd",
        "outputId": "8d84e276-048b-4b13-d11a-067a93f93cbf"
      },
      "execution_count": null,
      "outputs": [
        {
          "output_type": "execute_result",
          "data": {
            "text/plain": [
              "0"
            ]
          },
          "metadata": {},
          "execution_count": 29
        }
      ]
    },
    {
      "cell_type": "code",
      "source": [
        "# #list addition methods\n",
        "# 1.list.append() adds the list item at the end of the list\n",
        "# 2.list.insert() inserts the list item at the specific position_to_cursor\n",
        "# 3.we can add the list to specific list by giving the number/index of the element we want to accesslist[1]"
      ],
      "metadata": {
        "id": "4xPJIkOtykA9"
      },
      "execution_count": null,
      "outputs": []
    },
    {
      "cell_type": "code",
      "source": [
        "#list to remove the elements of the list\n",
        "list.remove('Suman som')"
      ],
      "metadata": {
        "id": "NU8MYxNfzmBO"
      },
      "execution_count": null,
      "outputs": []
    },
    {
      "cell_type": "code",
      "source": [
        "list"
      ],
      "metadata": {
        "colab": {
          "base_uri": "https://localhost:8080/"
        },
        "id": "7QPB4nv9z9uU",
        "outputId": "1e55770b-b786-4790-f23a-57d4adcd7294"
      },
      "execution_count": null,
      "outputs": [
        {
          "output_type": "execute_result",
          "data": {
            "text/plain": [
              "['Abhishek',\n",
              " 'Dheekshita murala',\n",
              " 'puneeth sai murala',\n",
              " 'jhasmita murala',\n",
              " 'Deepak',\n",
              " 'Dorothy Barman',\n",
              " 'Kiran gajjana',\n",
              " 'Saket',\n",
              " 'Sohaam biswas',\n",
              " 'Sreyashi Karmarkar',\n",
              " 'Yetendra',\n",
              " 'teja gajjana',\n",
              " 'lokeswara rao gajjana',\n",
              " 'kalpana ganna',\n",
              " 'sudhakar rao murala',\n",
              " 'vijaya kumar murala']"
            ]
          },
          "metadata": {},
          "execution_count": 34
        }
      ]
    },
    {
      "cell_type": "code",
      "source": [
        "list.pop()"
      ],
      "metadata": {
        "colab": {
          "base_uri": "https://localhost:8080/",
          "height": 36
        },
        "id": "w8Dz6UlK0QAc",
        "outputId": "f2798e5d-a13b-4735-b542-2d555cdd58cd"
      },
      "execution_count": null,
      "outputs": [
        {
          "output_type": "execute_result",
          "data": {
            "text/plain": [
              "'vijaya kumar murala'"
            ],
            "application/vnd.google.colaboratory.intrinsic+json": {
              "type": "string"
            }
          },
          "metadata": {},
          "execution_count": 35
        }
      ]
    },
    {
      "cell_type": "code",
      "source": [
        "list.count('Abhishek')"
      ],
      "metadata": {
        "colab": {
          "base_uri": "https://localhost:8080/"
        },
        "id": "M7TpCyad0S-f",
        "outputId": "65fb7c8b-d81a-4f22-f854-d8c817a376ab"
      },
      "execution_count": null,
      "outputs": [
        {
          "output_type": "execute_result",
          "data": {
            "text/plain": [
              "1"
            ]
          },
          "metadata": {},
          "execution_count": 36
        }
      ]
    },
    {
      "cell_type": "code",
      "source": [
        "#random module\n",
        "import random\n",
        "a=random.randint(1,5)\n",
        "print(a)"
      ],
      "metadata": {
        "colab": {
          "base_uri": "https://localhost:8080/"
        },
        "id": "gHaqCRzU0Yhg",
        "outputId": "a896ee57-2f07-4b00-8478-81b95083dd5e"
      },
      "execution_count": null,
      "outputs": [
        {
          "output_type": "stream",
          "name": "stdout",
          "text": [
            "3\n"
          ]
        }
      ]
    },
    {
      "cell_type": "code",
      "source": [
        "b=random.randrange(1,3)\n",
        "print(b)"
      ],
      "metadata": {
        "colab": {
          "base_uri": "https://localhost:8080/"
        },
        "id": "SynLt-172DZm",
        "outputId": "09e8d3e6-56bd-42da-df43-031093490240"
      },
      "execution_count": null,
      "outputs": [
        {
          "output_type": "stream",
          "name": "stdout",
          "text": [
            "2\n"
          ]
        }
      ]
    },
    {
      "cell_type": "code",
      "source": [
        "c=random.random() #by default random will give the number between 0.0 to 1.0\n",
        "print(c)"
      ],
      "metadata": {
        "colab": {
          "base_uri": "https://localhost:8080/"
        },
        "id": "FTVLpoqW2Yc9",
        "outputId": "0d6a588d-9bc9-4bc7-a332-0a3b2c883077"
      },
      "execution_count": null,
      "outputs": [
        {
          "output_type": "stream",
          "name": "stdout",
          "text": [
            "0.5242331676716577\n"
          ]
        }
      ]
    },
    {
      "cell_type": "code",
      "source": [
        "c=random.uniform(1,3) #if we want a random flot between the specific range then we need to use random.uniform\n",
        "print(c)"
      ],
      "metadata": {
        "colab": {
          "base_uri": "https://localhost:8080/"
        },
        "id": "8uies0m52vAG",
        "outputId": "35c91c95-bca6-43d3-aea6-c9013b670be9"
      },
      "execution_count": null,
      "outputs": [
        {
          "output_type": "stream",
          "name": "stdout",
          "text": [
            "2.960932926676711\n"
          ]
        }
      ]
    },
    {
      "cell_type": "code",
      "source": [
        "d=random.choice(list) #we will use the choice metohod if we want to select the element of the list randomly then we will select this list\n",
        "print(d)"
      ],
      "metadata": {
        "colab": {
          "base_uri": "https://localhost:8080/"
        },
        "id": "sED7vvnE2-is",
        "outputId": "2ef0a64b-a058-4d36-f27d-bc178e77a96d"
      },
      "execution_count": null,
      "outputs": [
        {
          "output_type": "stream",
          "name": "stdout",
          "text": [
            "Kiran gajjana\n"
          ]
        }
      ]
    },
    {
      "cell_type": "code",
      "source": [
        "e=random.shuffle(list)\n",
        "print(e)"
      ],
      "metadata": {
        "colab": {
          "base_uri": "https://localhost:8080/"
        },
        "id": "3gpXGpOZ3OHg",
        "outputId": "83714cd0-d830-4422-b51d-b1dd9ff9605b"
      },
      "execution_count": null,
      "outputs": [
        {
          "output_type": "stream",
          "name": "stdout",
          "text": [
            "None\n"
          ]
        }
      ]
    },
    {
      "cell_type": "code",
      "source": [
        "list"
      ],
      "metadata": {
        "colab": {
          "base_uri": "https://localhost:8080/"
        },
        "id": "fopa7R0t3jZ-",
        "outputId": "ce7841b7-d7c6-43d3-9721-2e8d224b060b"
      },
      "execution_count": null,
      "outputs": [
        {
          "output_type": "execute_result",
          "data": {
            "text/plain": [
              "['Abhishek',\n",
              " 'Dorothy Barman',\n",
              " 'sudhakar rao murala',\n",
              " 'jhasmita murala',\n",
              " 'Sreyashi Karmarkar',\n",
              " 'teja gajjana',\n",
              " 'Saket',\n",
              " 'Kiran gajjana',\n",
              " 'puneeth sai murala',\n",
              " 'Sohaam biswas',\n",
              " 'lokeswara rao gajjana',\n",
              " 'Dheekshita murala',\n",
              " 'kalpana ganna',\n",
              " 'Deepak',\n",
              " 'Yetendra']"
            ]
          },
          "metadata": {},
          "execution_count": 61
        }
      ]
    },
    {
      "cell_type": "code",
      "source": [
        "new=[1,2,3,4,5]"
      ],
      "metadata": {
        "id": "XOK0w_-Y3kme"
      },
      "execution_count": null,
      "outputs": []
    },
    {
      "cell_type": "code",
      "source": [
        "random.shuffle(new)"
      ],
      "metadata": {
        "id": "z6AJE26V3usp"
      },
      "execution_count": null,
      "outputs": []
    },
    {
      "cell_type": "code",
      "source": [
        "#heads or tails program using random module\n",
        "import random\n",
        "side=random.randint(0,1)\n",
        "if(side==0):\n",
        "  print(\"Heads\")\n",
        "else:\n",
        "  print(\"Tails\")"
      ],
      "metadata": {
        "colab": {
          "base_uri": "https://localhost:8080/"
        },
        "id": "Jq1GrNY-3zbj",
        "outputId": "cc5e936a-dacc-470f-e163-d52d0a3baae7"
      },
      "execution_count": null,
      "outputs": [
        {
          "output_type": "stream",
          "name": "stdout",
          "text": [
            "Tails\n"
          ]
        }
      ]
    },
    {
      "cell_type": "code",
      "source": [
        "#using random module we are going to program that who will pay the bill\n",
        "import random\n",
        "newlist=['kiran gajjana','shubhani singh','srikhant','sayan','Abhishek']\n",
        "sel=random.choice(newlist)\n",
        "if(sel=='kiran gajjana'):\n",
        "  print(\"kiran gajjana has to pay the bill\")\n",
        "elif(sel=='shubhani singh'):\n",
        "  print(\"shubhani singh will have to pay the bill\")\n",
        "elif(sel=='srikhant'):\n",
        "    print(\"srikhant has to pay the bill\")\n",
        "elif(sel=='sayan'):\n",
        "  print(\"sayan has to pay the bill\")\n",
        "elif(sel=='Abhishek'):\n",
        "  print(\"Abhishek has to pay the bill\")\n",
        "else:\n",
        "  print(\"please select from your side only\")"
      ],
      "metadata": {
        "colab": {
          "base_uri": "https://localhost:8080/"
        },
        "id": "F8fNe_2_4pyD",
        "outputId": "3bf9bc0e-42c1-4b80-8c3e-e893dc749f8e"
      },
      "execution_count": null,
      "outputs": [
        {
          "output_type": "stream",
          "name": "stdout",
          "text": [
            "kiran gajjana has to pay the bill\n"
          ]
        }
      ]
    },
    {
      "cell_type": "code",
      "source": [
        "print(f\"hello mr.{list[2]}\")"
      ],
      "metadata": {
        "colab": {
          "base_uri": "https://localhost:8080/"
        },
        "id": "j7t0c35T6G3s",
        "outputId": "4d2b2cc0-5777-4a70-e2fd-a4d821eb1fc8"
      },
      "execution_count": null,
      "outputs": [
        {
          "output_type": "stream",
          "name": "stdout",
          "text": [
            "hello mr.sudhakar rao murala\n"
          ]
        }
      ]
    },
    {
      "cell_type": "code",
      "source": [
        "#nested list\n",
        "list1=['kiran gajjana','harsha juttu','swaroop kumar',['Abhishek','Deepak','Saket','Yetendra']]"
      ],
      "metadata": {
        "id": "H2_69V696aRh"
      },
      "execution_count": null,
      "outputs": []
    },
    {
      "cell_type": "code",
      "source": [
        "list1[3][0]"
      ],
      "metadata": {
        "colab": {
          "base_uri": "https://localhost:8080/",
          "height": 36
        },
        "id": "buoEWIgI6i3L",
        "outputId": "19fa247d-cc82-4ca8-e633-e4825d86e6c1"
      },
      "execution_count": null,
      "outputs": [
        {
          "output_type": "execute_result",
          "data": {
            "text/plain": [
              "'Abhishek'"
            ],
            "application/vnd.google.colaboratory.intrinsic+json": {
              "type": "string"
            }
          },
          "metadata": {},
          "execution_count": 82
        }
      ]
    },
    {
      "cell_type": "code",
      "source": [
        "#coding problem\n",
        "row1=['kiran gajjana','teja gajjana','lokesh gajjana']\n",
        "row2=['kiran gajjana','teja gajjana','lokesh gajjana']\n",
        "row3=['kiran gajjana','teja gajjana','lokesh gajjana']\n",
        "print(f\"{row1}\\n{row2}\\n{row3}\")\n",
        "new=[row1,row2,row3]\n",
        "row=int(input(\"enter the row in which you want to hide your money\"))\n",
        "column=int(input(\"enter the element in which you want to hide your money just press the index to hide your money\"))\n",
        "new[row][column]='X'\n",
        "print(f\"{row1}\\n{row2}\\n{row3}\")\n"
      ],
      "metadata": {
        "colab": {
          "base_uri": "https://localhost:8080/"
        },
        "id": "YMPVwG4389a_",
        "outputId": "f818aa75-fb84-4ad8-fb7c-259b5b330653"
      },
      "execution_count": null,
      "outputs": [
        {
          "output_type": "stream",
          "name": "stdout",
          "text": [
            "['kiran gajjana', 'teja gajjana', 'lokesh gajjana']\n",
            "['kiran gajjana', 'teja gajjana', 'lokesh gajjana']\n",
            "['kiran gajjana', 'teja gajjana', 'lokesh gajjana']\n",
            "enter the row in which you want to hide your money0\n",
            "enter the element in which you want to hide your money just press the index to hide your money0\n",
            "['X', 'teja gajjana', 'lokesh gajjana']\n",
            "['kiran gajjana', 'teja gajjana', 'lokesh gajjana']\n",
            "['kiran gajjana', 'teja gajjana', 'lokesh gajjana']\n"
          ]
        }
      ]
    },
    {
      "cell_type": "code",
      "source": [
        "#we will be learning tuples\n",
        "newtupe=(1)#if we store one element inside the tuple then we cant say that as a tuple by default it will be a integer\n",
        "newtupe1=(2,)#in order to create a single tuple  variable then we should keep ,after the tuple variable\n",
        "print(type(newtupe))\n",
        "print(type(newtupe1))"
      ],
      "metadata": {
        "colab": {
          "base_uri": "https://localhost:8080/"
        },
        "id": "yziRpSj2-xV-",
        "outputId": "758526c2-9a6a-4f71-aad0-88b4dd0ede98"
      },
      "execution_count": null,
      "outputs": [
        {
          "output_type": "stream",
          "name": "stdout",
          "text": [
            "<class 'int'>\n",
            "<class 'tuple'>\n"
          ]
        }
      ]
    },
    {
      "cell_type": "code",
      "source": [
        "#we will access the tuple by using the index and square brackets as if like lists\n",
        "tuple=(1,2.2,'kiran gajjana','5+ij')"
      ],
      "metadata": {
        "id": "QgE9qN7iApvh"
      },
      "execution_count": null,
      "outputs": []
    },
    {
      "cell_type": "code",
      "source": [
        "tuple[3]"
      ],
      "metadata": {
        "colab": {
          "base_uri": "https://localhost:8080/",
          "height": 36
        },
        "id": "B8NJyI41LzQ8",
        "outputId": "cd409eda-42d5-4560-cf2e-1ca988b8e8fc"
      },
      "execution_count": null,
      "outputs": [
        {
          "output_type": "execute_result",
          "data": {
            "text/plain": [
              "'5+ij'"
            ],
            "application/vnd.google.colaboratory.intrinsic+json": {
              "type": "string"
            }
          },
          "metadata": {},
          "execution_count": 90
        }
      ]
    },
    {
      "cell_type": "code",
      "source": [
        "tuple[1:]"
      ],
      "metadata": {
        "colab": {
          "base_uri": "https://localhost:8080/"
        },
        "id": "4WqK5FZAL7LQ",
        "outputId": "cc5dd161-af41-4aef-dcfe-6b8dd8aa797b"
      },
      "execution_count": null,
      "outputs": [
        {
          "output_type": "execute_result",
          "data": {
            "text/plain": [
              "(2.2, 'kiran gajjana', '5+ij')"
            ]
          },
          "metadata": {},
          "execution_count": 91
        }
      ]
    },
    {
      "cell_type": "code",
      "source": [
        "tuple[-1]"
      ],
      "metadata": {
        "colab": {
          "base_uri": "https://localhost:8080/",
          "height": 36
        },
        "id": "qXcQVkY8MaEP",
        "outputId": "32f3b43c-c09b-4afa-cf05-b2f46fa7490a"
      },
      "execution_count": null,
      "outputs": [
        {
          "output_type": "execute_result",
          "data": {
            "text/plain": [
              "'5+ij'"
            ],
            "application/vnd.google.colaboratory.intrinsic+json": {
              "type": "string"
            }
          },
          "metadata": {},
          "execution_count": 92
        }
      ]
    },
    {
      "cell_type": "code",
      "source": [
        "tuple[::2]"
      ],
      "metadata": {
        "colab": {
          "base_uri": "https://localhost:8080/"
        },
        "id": "uHqjhH0aMcwV",
        "outputId": "8878ac7e-84e2-4056-c8d0-42a67964b0c8"
      },
      "execution_count": null,
      "outputs": [
        {
          "output_type": "execute_result",
          "data": {
            "text/plain": [
              "(1, 'kiran gajjana')"
            ]
          },
          "metadata": {},
          "execution_count": 93
        }
      ]
    },
    {
      "cell_type": "code",
      "source": [
        "#tuple concatination\n",
        "tuple1=(1,2,3,4,5,6,7,8,9,10)\n",
        "tuple2=(11,12,13,14,15,16,17,18,19,20)\n",
        "tuple3=(tuple1,tuple2)"
      ],
      "metadata": {
        "id": "VqAg7pdYMpQ2"
      },
      "execution_count": null,
      "outputs": []
    },
    {
      "cell_type": "code",
      "source": [
        "print(tuple3)"
      ],
      "metadata": {
        "colab": {
          "base_uri": "https://localhost:8080/"
        },
        "id": "MPpKZ2CuNK36",
        "outputId": "ec043171-1ac9-452c-c873-ee72ead848c9"
      },
      "execution_count": null,
      "outputs": [
        {
          "output_type": "stream",
          "name": "stdout",
          "text": [
            "((1, 2, 3, 4, 5, 6, 7, 8, 9, 10), (11, 12, 13, 14, 15, 16, 17, 18, 19, 20))\n"
          ]
        }
      ]
    },
    {
      "cell_type": "code",
      "source": [
        "tuple4=tuple1+tuple2 #concatination of the both the tuples"
      ],
      "metadata": {
        "id": "sAIUWJoPNNbF"
      },
      "execution_count": null,
      "outputs": []
    },
    {
      "cell_type": "code",
      "source": [
        "tuple4"
      ],
      "metadata": {
        "colab": {
          "base_uri": "https://localhost:8080/"
        },
        "id": "6Om9Kqt1NT6l",
        "outputId": "18ce48ef-b91b-48ba-e474-6cb28289692c"
      },
      "execution_count": null,
      "outputs": [
        {
          "output_type": "execute_result",
          "data": {
            "text/plain": [
              "(1, 2, 3, 4, 5, 6, 7, 8, 9, 10, 11, 12, 13, 14, 15, 16, 17, 18, 19, 20)"
            ]
          },
          "metadata": {},
          "execution_count": 97
        }
      ]
    },
    {
      "cell_type": "code",
      "source": [
        "tuple3[1][2]"
      ],
      "metadata": {
        "colab": {
          "base_uri": "https://localhost:8080/"
        },
        "id": "e70v09JMNVOA",
        "outputId": "1a190870-3634-42e5-f27d-4a3e6da06c9c"
      },
      "execution_count": null,
      "outputs": [
        {
          "output_type": "execute_result",
          "data": {
            "text/plain": [
              "13"
            ]
          },
          "metadata": {},
          "execution_count": 99
        }
      ]
    },
    {
      "cell_type": "code",
      "source": [
        "#sets in python\n",
        "set1={1,2,3,4,5,5,6,6,6,6,7,7,7,7,8,8,8,8,9,9,9,9,10,1,10,True}"
      ],
      "metadata": {
        "id": "QkLC895lNaUW"
      },
      "execution_count": null,
      "outputs": []
    },
    {
      "cell_type": "code",
      "source": [
        "set1"
      ],
      "metadata": {
        "colab": {
          "base_uri": "https://localhost:8080/"
        },
        "id": "Ut1VbQg0Odfl",
        "outputId": "dfe88b6c-0647-4c1c-dd00-f3fe1c4408a1"
      },
      "execution_count": null,
      "outputs": [
        {
          "output_type": "execute_result",
          "data": {
            "text/plain": [
              "{1, 2, 3, 4, 5, 6, 7, 8, 9, 10}"
            ]
          },
          "metadata": {},
          "execution_count": 101
        }
      ]
    },
    {
      "cell_type": "code",
      "source": [
        "#sets are mutable"
      ],
      "metadata": {
        "id": "MMdzd7YBOerL"
      },
      "execution_count": null,
      "outputs": []
    },
    {
      "cell_type": "code",
      "source": [
        "#sets will not allow any repeated elemnets inside the set\n",
        "#if in set of we are having True and 1 by default set will think both the true and 1 as 1 so the repeated item will be removed and only 1 will be printed\n",
        "#sets are unorderd there wll be no order for the sets"
      ],
      "metadata": {
        "id": "g8fj1VlOPBzd"
      },
      "execution_count": null,
      "outputs": []
    },
    {
      "cell_type": "code",
      "source": [
        "#inpython we cant keep an empty set by default that empty set will we dictionary"
      ],
      "metadata": {
        "id": "d3RhJ9ZHPYn4"
      },
      "execution_count": null,
      "outputs": []
    },
    {
      "cell_type": "code",
      "source": [
        "#inorder to keep an empty set in python we need to keep that as set=set()"
      ],
      "metadata": {
        "id": "0Eyg-0g-PzJ5"
      },
      "execution_count": null,
      "outputs": []
    },
    {
      "cell_type": "code",
      "source": [
        "set1=set()\n",
        "type(set1)"
      ],
      "metadata": {
        "colab": {
          "base_uri": "https://localhost:8080/"
        },
        "id": "4n-4T5o5P5TX",
        "outputId": "d25f504b-8940-4355-e98d-1f6795b24033"
      },
      "execution_count": null,
      "outputs": [
        {
          "output_type": "execute_result",
          "data": {
            "text/plain": [
              "set"
            ]
          },
          "metadata": {},
          "execution_count": 107
        }
      ]
    },
    {
      "cell_type": "code",
      "source": [
        "set1={}\n",
        "type(set1)"
      ],
      "metadata": {
        "colab": {
          "base_uri": "https://localhost:8080/"
        },
        "id": "R4p1d4pWP9zT",
        "outputId": "118b5a92-51b8-4ce7-b3f3-d8426e096d5c"
      },
      "execution_count": null,
      "outputs": [
        {
          "output_type": "execute_result",
          "data": {
            "text/plain": [
              "dict"
            ]
          },
          "metadata": {},
          "execution_count": 108
        }
      ]
    },
    {
      "cell_type": "code",
      "source": [
        "set={1,2,3,4,56,7}"
      ],
      "metadata": {
        "id": "1sLP0fADQG1N"
      },
      "execution_count": null,
      "outputs": []
    },
    {
      "cell_type": "code",
      "source": [
        "set.add(4)"
      ],
      "metadata": {
        "id": "dYuFPfhVRkqo"
      },
      "execution_count": null,
      "outputs": []
    },
    {
      "cell_type": "code",
      "source": [
        "set"
      ],
      "metadata": {
        "colab": {
          "base_uri": "https://localhost:8080/"
        },
        "id": "_sr8hNC9RrKG",
        "outputId": "3fa0de9f-baf2-4654-d444-8567b7c3b6a1"
      },
      "execution_count": null,
      "outputs": [
        {
          "output_type": "execute_result",
          "data": {
            "text/plain": [
              "{1, 2, 3, 4, 7, 56}"
            ]
          },
          "metadata": {},
          "execution_count": 113
        }
      ]
    },
    {
      "cell_type": "code",
      "source": [
        "set.remove(1)"
      ],
      "metadata": {
        "id": "gDYjYmKgRr9z"
      },
      "execution_count": null,
      "outputs": []
    },
    {
      "cell_type": "code",
      "source": [
        "set"
      ],
      "metadata": {
        "colab": {
          "base_uri": "https://localhost:8080/"
        },
        "id": "7Yz2bWxzRyRw",
        "outputId": "46faadad-a093-45ce-c485-a5b9b50e265f"
      },
      "execution_count": null,
      "outputs": [
        {
          "output_type": "execute_result",
          "data": {
            "text/plain": [
              "{2, 3, 4, 7, 56}"
            ]
          },
          "metadata": {},
          "execution_count": 115
        }
      ]
    },
    {
      "cell_type": "code",
      "source": [
        "set.discard(2)"
      ],
      "metadata": {
        "id": "c9Tolzl-Ry3C"
      },
      "execution_count": null,
      "outputs": []
    },
    {
      "cell_type": "code",
      "source": [
        "set"
      ],
      "metadata": {
        "colab": {
          "base_uri": "https://localhost:8080/"
        },
        "id": "S5H9lrZIR0_p",
        "outputId": "a4b464b3-d686-4aaf-9cbd-10cf3a31d569"
      },
      "execution_count": null,
      "outputs": [
        {
          "output_type": "execute_result",
          "data": {
            "text/plain": [
              "{3, 4, 7, 56}"
            ]
          },
          "metadata": {},
          "execution_count": 118
        }
      ]
    },
    {
      "cell_type": "code",
      "source": [
        "set.discard(2)"
      ],
      "metadata": {
        "id": "Q_vkH4hVR6-T"
      },
      "execution_count": null,
      "outputs": []
    },
    {
      "cell_type": "code",
      "source": [
        "set"
      ],
      "metadata": {
        "colab": {
          "base_uri": "https://localhost:8080/"
        },
        "id": "3QVMUtVqR9uo",
        "outputId": "5211d258-e1b5-4eab-ecf7-a989a7dc10d9"
      },
      "execution_count": null,
      "outputs": [
        {
          "output_type": "execute_result",
          "data": {
            "text/plain": [
              "{3, 4, 7, 56}"
            ]
          },
          "metadata": {},
          "execution_count": 120
        }
      ]
    },
    {
      "cell_type": "code",
      "source": [
        "#add\n",
        "#remove\n",
        "#discard\n",
        "#pop() will remove any random item from the set"
      ],
      "metadata": {
        "id": "Zrs9Ct8BR-pa"
      },
      "execution_count": null,
      "outputs": []
    },
    {
      "cell_type": "code",
      "source": [
        "set.pop()"
      ],
      "metadata": {
        "colab": {
          "base_uri": "https://localhost:8080/"
        },
        "id": "cVRjtIdOSPq5",
        "outputId": "1ad5ea9a-1d67-4295-bfd8-a0b97ece7854"
      },
      "execution_count": null,
      "outputs": [
        {
          "output_type": "execute_result",
          "data": {
            "text/plain": [
              "56"
            ]
          },
          "metadata": {},
          "execution_count": 128
        }
      ]
    },
    {
      "cell_type": "code",
      "source": [
        "set"
      ],
      "metadata": {
        "colab": {
          "base_uri": "https://localhost:8080/"
        },
        "id": "Ukjx5araSQbH",
        "outputId": "14417d13-af98-4e75-bcfe-ed09bb4139c7"
      },
      "execution_count": null,
      "outputs": [
        {
          "output_type": "execute_result",
          "data": {
            "text/plain": [
              "set()"
            ]
          },
          "metadata": {},
          "execution_count": 129
        }
      ]
    },
    {
      "cell_type": "code",
      "source": [
        "set.add(10)"
      ],
      "metadata": {
        "id": "7hEDCnKPSTXs"
      },
      "execution_count": null,
      "outputs": []
    },
    {
      "cell_type": "code",
      "source": [
        "#we can add tuple inside the set\n",
        "set.add((1,2,3,4))"
      ],
      "metadata": {
        "id": "As-uT1IYSahY"
      },
      "execution_count": null,
      "outputs": []
    },
    {
      "cell_type": "code",
      "source": [
        "set"
      ],
      "metadata": {
        "colab": {
          "base_uri": "https://localhost:8080/"
        },
        "id": "RpZVBjVRSp4M",
        "outputId": "843e9914-b0c1-4162-df19-dafdb911cd79"
      },
      "execution_count": null,
      "outputs": [
        {
          "output_type": "execute_result",
          "data": {
            "text/plain": [
              "{(1, 2, 3, 4), 10}"
            ]
          },
          "metadata": {},
          "execution_count": 132
        }
      ]
    },
    {
      "cell_type": "code",
      "source": [
        "#operations in sets\n",
        "set1={1,2,3,4,5}\n",
        "set2={1,2,7,8,9}\n",
        "b=set1.union(set2)"
      ],
      "metadata": {
        "id": "oo3-TeCQSqju"
      },
      "execution_count": null,
      "outputs": []
    },
    {
      "cell_type": "code",
      "source": [
        "b"
      ],
      "metadata": {
        "colab": {
          "base_uri": "https://localhost:8080/"
        },
        "id": "33uRVgfzTxrB",
        "outputId": "e8b8cf6b-2fdb-425c-ca4f-7d56d191d83f"
      },
      "execution_count": null,
      "outputs": [
        {
          "output_type": "execute_result",
          "data": {
            "text/plain": [
              "{1, 2, 3, 4, 5, 7, 8, 9}"
            ]
          },
          "metadata": {},
          "execution_count": 138
        }
      ]
    },
    {
      "cell_type": "code",
      "source": [
        "set1.update(set2)"
      ],
      "metadata": {
        "id": "HQ7VU7I5T2zR"
      },
      "execution_count": null,
      "outputs": []
    },
    {
      "cell_type": "code",
      "source": [
        "set1"
      ],
      "metadata": {
        "colab": {
          "base_uri": "https://localhost:8080/"
        },
        "id": "Qvt3hOXpUxcc",
        "outputId": "04f8608e-b9c8-4157-9f5f-4216c3a840e7"
      },
      "execution_count": null,
      "outputs": [
        {
          "output_type": "execute_result",
          "data": {
            "text/plain": [
              "{1, 2, 3, 4, 5, 7, 8, 9}"
            ]
          },
          "metadata": {},
          "execution_count": 140
        }
      ]
    },
    {
      "cell_type": "code",
      "source": [
        "set1.intersection(set2)"
      ],
      "metadata": {
        "colab": {
          "base_uri": "https://localhost:8080/"
        },
        "id": "cQ1OnvzMUyea",
        "outputId": "9806e0e6-7ebf-4625-c635-cfb6c5ae5578"
      },
      "execution_count": null,
      "outputs": [
        {
          "output_type": "execute_result",
          "data": {
            "text/plain": [
              "{1, 2, 7, 8, 9}"
            ]
          },
          "metadata": {},
          "execution_count": 141
        }
      ]
    },
    {
      "cell_type": "code",
      "source": [
        "#for loops is a iterative statement rather than any other like in our programming languages\n",
        "squares=[]\n",
        "for i in set1:\n",
        "  square=i**2\n",
        "  squares.append(square)\n",
        "print(squares)"
      ],
      "metadata": {
        "colab": {
          "base_uri": "https://localhost:8080/"
        },
        "id": "tMJ2A7x5U9uq",
        "outputId": "0ee7c99a-399d-47c2-fc07-ea984286aa5d"
      },
      "execution_count": null,
      "outputs": [
        {
          "output_type": "stream",
          "name": "stdout",
          "text": [
            "[1, 4, 9, 16, 25, 49, 64, 81]\n"
          ]
        }
      ]
    },
    {
      "cell_type": "code",
      "source": [
        "set1"
      ],
      "metadata": {
        "colab": {
          "base_uri": "https://localhost:8080/"
        },
        "id": "ZrcZe54AYkWs",
        "outputId": "605d7f5a-2041-4b9b-dd31-5e2c73f113e5"
      },
      "execution_count": null,
      "outputs": [
        {
          "output_type": "execute_result",
          "data": {
            "text/plain": [
              "{1, 2, 3, 4, 5, 7, 8, 9}"
            ]
          },
          "metadata": {},
          "execution_count": 149
        }
      ]
    },
    {
      "cell_type": "code",
      "source": [
        "squares"
      ],
      "metadata": {
        "colab": {
          "base_uri": "https://localhost:8080/"
        },
        "id": "1VlRJ6gKZUS6",
        "outputId": "e21927c4-cfe1-4cd1-bbf7-9281acf68a18"
      },
      "execution_count": null,
      "outputs": [
        {
          "output_type": "execute_result",
          "data": {
            "text/plain": [
              "[1, 4, 9, 16, 25, 49, 64, 81]"
            ]
          },
          "metadata": {},
          "execution_count": 150
        }
      ]
    },
    {
      "cell_type": "code",
      "source": [
        "#for loop with else\n",
        "for i in squares:\n",
        "  print(i)\n",
        "  # if i == 16:\n",
        "  #   break\n",
        "else:\n",
        "  print(\"your for loop has been executed successfully\")\n",
        "print(\"out of the for loop\")"
      ],
      "metadata": {
        "colab": {
          "base_uri": "https://localhost:8080/"
        },
        "id": "JomnxZw9ZaYU",
        "outputId": "543ea6fb-8e26-4180-889f-4b3d6d83fdb0"
      },
      "execution_count": null,
      "outputs": [
        {
          "output_type": "stream",
          "name": "stdout",
          "text": [
            "1\n",
            "4\n",
            "9\n",
            "16\n",
            "25\n",
            "49\n",
            "64\n",
            "81\n",
            "your for loop has been executed successfully\n",
            "out of the for loop\n"
          ]
        }
      ]
    },
    {
      "cell_type": "code",
      "source": [
        "#functions with arguments\n",
        "def kiran(name):\n",
        "  print(f\"hello mr.{name}\")\n",
        "  print(f\"{name} are you from computer science department\")"
      ],
      "metadata": {
        "id": "VfOmFwSzac-h"
      },
      "execution_count": null,
      "outputs": []
    },
    {
      "cell_type": "code",
      "source": [
        "kiran(\"kiran\")"
      ],
      "metadata": {
        "colab": {
          "base_uri": "https://localhost:8080/"
        },
        "id": "5Iy29ZGwh_CW",
        "outputId": "db88878d-317d-441d-b5b4-f17cdc492870"
      },
      "execution_count": null,
      "outputs": [
        {
          "output_type": "stream",
          "name": "stdout",
          "text": [
            "hello mr.kiran\n",
            "kiran are you from computer science department\n"
          ]
        }
      ]
    },
    {
      "cell_type": "code",
      "source": [
        "#arbitary positional arguments\n",
        "def kiran(*numbers):\n",
        "  c=0\n",
        "  for i in numbers:\n",
        "    c=c+i\n",
        "  print(f\"the value of {c}\")\n"
      ],
      "metadata": {
        "id": "9yxA3zStiAPs"
      },
      "execution_count": null,
      "outputs": []
    },
    {
      "cell_type": "code",
      "source": [
        "kiran(1,2)"
      ],
      "metadata": {
        "colab": {
          "base_uri": "https://localhost:8080/"
        },
        "id": "tTORMgw_kfLe",
        "outputId": "fb06d6b6-6f3d-45e9-b239-0ef1eb4be44c"
      },
      "execution_count": null,
      "outputs": [
        {
          "output_type": "stream",
          "name": "stdout",
          "text": [
            "the value of 3\n"
          ]
        }
      ]
    },
    {
      "cell_type": "code",
      "source": [
        "#arbitary keyword arguments\n",
        "def kirannew(**kargs):\n",
        "  for key,val in kargs.items():\n",
        "    print(key,val)"
      ],
      "metadata": {
        "id": "odcZw7cCkg8Y"
      },
      "execution_count": null,
      "outputs": []
    },
    {
      "cell_type": "code",
      "source": [
        "kirannew(name=\"kiran\")"
      ],
      "metadata": {
        "colab": {
          "base_uri": "https://localhost:8080/"
        },
        "id": "uQ1tn3pOlkR7",
        "outputId": "de402d61-b25c-455b-ca64-1db14441b34a"
      },
      "execution_count": null,
      "outputs": [
        {
          "output_type": "stream",
          "name": "stdout",
          "text": [
            "name kiran\n"
          ]
        }
      ]
    },
    {
      "cell_type": "code",
      "source": [
        "dict={\n",
        "       'name':\"kiran\"\n",
        "}"
      ],
      "metadata": {
        "id": "pdcoQUuqlmyF"
      },
      "execution_count": null,
      "outputs": []
    },
    {
      "cell_type": "code",
      "source": [],
      "metadata": {
        "colab": {
          "base_uri": "https://localhost:8080/",
          "height": 175
        },
        "id": "9I_UfsjvmoeD",
        "outputId": "5361eba6-6c0b-410e-d85e-db2136a6d5da"
      },
      "execution_count": null,
      "outputs": [
        {
          "output_type": "error",
          "ename": "TypeError",
          "evalue": "ignored",
          "traceback": [
            "\u001b[0;31m---------------------------------------------------------------------------\u001b[0m",
            "\u001b[0;31mTypeError\u001b[0m                                 Traceback (most recent call last)",
            "\u001b[0;32m<ipython-input-170-014958220794>\u001b[0m in \u001b[0;36m<cell line: 1>\u001b[0;34m()\u001b[0m\n\u001b[0;32m----> 1\u001b[0;31m \u001b[0mkirannew\u001b[0m\u001b[0;34m(\u001b[0m\u001b[0mdict\u001b[0m\u001b[0;34m)\u001b[0m\u001b[0;34m\u001b[0m\u001b[0;34m\u001b[0m\u001b[0m\n\u001b[0m",
            "\u001b[0;31mTypeError\u001b[0m: kirannew() takes 0 positional arguments but 1 was given"
          ]
        }
      ]
    },
    {
      "cell_type": "code",
      "source": [
        "a=10\n",
        "def kiran():\n",
        "  global a\n",
        "  print(f\"the value of a is {a}\")"
      ],
      "metadata": {
        "id": "1zWYA5i0nBCz"
      },
      "execution_count": null,
      "outputs": []
    },
    {
      "cell_type": "code",
      "source": [
        "kiran()"
      ],
      "metadata": {
        "colab": {
          "base_uri": "https://localhost:8080/"
        },
        "id": "i58B-gB4qNaX",
        "outputId": "b78ddb7a-8c1b-4910-8d50-432e25ae783b"
      },
      "execution_count": null,
      "outputs": [
        {
          "output_type": "stream",
          "name": "stdout",
          "text": [
            "the value of a is 10\n"
          ]
        }
      ]
    },
    {
      "cell_type": "code",
      "source": [
        "#classes in python\n",
        "class NameDay:\n",
        "  pass\n",
        "instructor1=NameDay()"
      ],
      "metadata": {
        "id": "k9OlZqGYqPn3"
      },
      "execution_count": null,
      "outputs": []
    },
    {
      "cell_type": "code",
      "source": [],
      "metadata": {
        "id": "9Cq--4-nv0WW"
      },
      "execution_count": null,
      "outputs": []
    }
  ]
}